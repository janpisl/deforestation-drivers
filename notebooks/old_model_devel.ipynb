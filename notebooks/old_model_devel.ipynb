{
 "cells": [
  {
   "cell_type": "markdown",
   "metadata": {},
   "source": [
    "Here I develop code necessary to train a model to classify geo-wiki drivers based on S2 images"
   ]
  },
  {
   "cell_type": "code",
   "execution_count": 18,
   "metadata": {},
   "outputs": [],
   "source": [
    "import torch\n",
    "import sklearn\n",
    "from sklearn import preprocessing\n",
    "import pandas as pd\n",
    "import geopandas as gpd\n",
    "\n",
    "import os\n",
    "import pandas as pd\n",
    "from torchvision.io import read_image\n",
    "\n",
    "from torch.utils.data import Dataset\n",
    "from torchvision import datasets\n",
    "from torchvision.transforms import ToTensor\n",
    "import matplotlib.pyplot as plt"
   ]
  },
  {
   "cell_type": "markdown",
   "metadata": {},
   "source": [
    "Preprocessing"
   ]
  },
  {
   "cell_type": "code",
   "execution_count": 16,
   "metadata": {},
   "outputs": [
    {
     "name": "stderr",
     "output_type": "stream",
     "text": [
      "/Users/janpisl/miniconda3/envs/pytorch/lib/python3.9/site-packages/geopandas/geodataframe.py:1351: SettingWithCopyWarning: \n",
      "A value is trying to be set on a copy of a slice from a DataFrame.\n",
      "Try using .loc[row_indexer,col_indexer] = value instead\n",
      "\n",
      "See the caveats in the documentation: https://pandas.pydata.org/pandas-docs/stable/user_guide/indexing.html#returning-a-view-versus-a-copy\n",
      "  super().__setitem__(key, value)\n"
     ]
    }
   ],
   "source": [
    "classes = filtered_controls.answer.unique()\n",
    "\n",
    "le = preprocessing.LabelEncoder()\n",
    "le.fit(classes)\n",
    "\n",
    "filtered_controls['label'] = le.transform(filtered_controls.answer)\n",
    "#list(le.inverse_transform([2, 2, 1]))"
   ]
  },
  {
   "cell_type": "code",
   "execution_count": 14,
   "metadata": {},
   "outputs": [
    {
     "ename": "ValueError",
     "evalue": "y contains previously unseen labels: 'tokdyo'",
     "output_type": "error",
     "traceback": [
      "\u001b[0;31m---------------------------------------------------------------------------\u001b[0m",
      "\u001b[0;31mKeyError\u001b[0m                                  Traceback (most recent call last)",
      "File \u001b[0;32m~/miniconda3/envs/pytorch/lib/python3.9/site-packages/sklearn/utils/_encode.py:182\u001b[0m, in \u001b[0;36m_encode\u001b[0;34m(values, uniques, check_unknown)\u001b[0m\n\u001b[1;32m    <a href='file:///~/miniconda3/envs/pytorch/lib/python3.9/site-packages/sklearn/utils/_encode.py?line=180'>181</a>\u001b[0m \u001b[39mtry\u001b[39;00m:\n\u001b[0;32m--> <a href='file:///~/miniconda3/envs/pytorch/lib/python3.9/site-packages/sklearn/utils/_encode.py?line=181'>182</a>\u001b[0m     \u001b[39mreturn\u001b[39;00m _map_to_integer(values, uniques)\n\u001b[1;32m    <a href='file:///~/miniconda3/envs/pytorch/lib/python3.9/site-packages/sklearn/utils/_encode.py?line=182'>183</a>\u001b[0m \u001b[39mexcept\u001b[39;00m \u001b[39mKeyError\u001b[39;00m \u001b[39mas\u001b[39;00m e:\n",
      "File \u001b[0;32m~/miniconda3/envs/pytorch/lib/python3.9/site-packages/sklearn/utils/_encode.py:126\u001b[0m, in \u001b[0;36m_map_to_integer\u001b[0;34m(values, uniques)\u001b[0m\n\u001b[1;32m    <a href='file:///~/miniconda3/envs/pytorch/lib/python3.9/site-packages/sklearn/utils/_encode.py?line=124'>125</a>\u001b[0m table \u001b[39m=\u001b[39m _nandict({val: i \u001b[39mfor\u001b[39;00m i, val \u001b[39min\u001b[39;00m \u001b[39menumerate\u001b[39m(uniques)})\n\u001b[0;32m--> <a href='file:///~/miniconda3/envs/pytorch/lib/python3.9/site-packages/sklearn/utils/_encode.py?line=125'>126</a>\u001b[0m \u001b[39mreturn\u001b[39;00m np\u001b[39m.\u001b[39marray([table[v] \u001b[39mfor\u001b[39;00m v \u001b[39min\u001b[39;00m values])\n",
      "File \u001b[0;32m~/miniconda3/envs/pytorch/lib/python3.9/site-packages/sklearn/utils/_encode.py:126\u001b[0m, in \u001b[0;36m<listcomp>\u001b[0;34m(.0)\u001b[0m\n\u001b[1;32m    <a href='file:///~/miniconda3/envs/pytorch/lib/python3.9/site-packages/sklearn/utils/_encode.py?line=124'>125</a>\u001b[0m table \u001b[39m=\u001b[39m _nandict({val: i \u001b[39mfor\u001b[39;00m i, val \u001b[39min\u001b[39;00m \u001b[39menumerate\u001b[39m(uniques)})\n\u001b[0;32m--> <a href='file:///~/miniconda3/envs/pytorch/lib/python3.9/site-packages/sklearn/utils/_encode.py?line=125'>126</a>\u001b[0m \u001b[39mreturn\u001b[39;00m np\u001b[39m.\u001b[39marray([table[v] \u001b[39mfor\u001b[39;00m v \u001b[39min\u001b[39;00m values])\n",
      "File \u001b[0;32m~/miniconda3/envs/pytorch/lib/python3.9/site-packages/sklearn/utils/_encode.py:120\u001b[0m, in \u001b[0;36m_nandict.__missing__\u001b[0;34m(self, key)\u001b[0m\n\u001b[1;32m    <a href='file:///~/miniconda3/envs/pytorch/lib/python3.9/site-packages/sklearn/utils/_encode.py?line=118'>119</a>\u001b[0m     \u001b[39mreturn\u001b[39;00m \u001b[39mself\u001b[39m\u001b[39m.\u001b[39mnan_value\n\u001b[0;32m--> <a href='file:///~/miniconda3/envs/pytorch/lib/python3.9/site-packages/sklearn/utils/_encode.py?line=119'>120</a>\u001b[0m \u001b[39mraise\u001b[39;00m \u001b[39mKeyError\u001b[39;00m(key)\n",
      "\u001b[0;31mKeyError\u001b[0m: 'tokdyo'",
      "\nDuring handling of the above exception, another exception occurred:\n",
      "\u001b[0;31mValueError\u001b[0m                                Traceback (most recent call last)",
      "\u001b[1;32m/Users/janpisl/Documents/EPFL/drivers/model_devel.ipynb Cell 6'\u001b[0m in \u001b[0;36m<cell line: 1>\u001b[0;34m()\u001b[0m\n\u001b[0;32m----> <a href='vscode-notebook-cell:/Users/janpisl/Documents/EPFL/drivers/model_devel.ipynb#ch0000010?line=0'>1</a>\u001b[0m le\u001b[39m.\u001b[39;49mtransform([\u001b[39m'\u001b[39;49m\u001b[39mtokdyo\u001b[39;49m\u001b[39m'\u001b[39;49m])\n",
      "File \u001b[0;32m~/miniconda3/envs/pytorch/lib/python3.9/site-packages/sklearn/preprocessing/_label.py:138\u001b[0m, in \u001b[0;36mLabelEncoder.transform\u001b[0;34m(self, y)\u001b[0m\n\u001b[1;32m    <a href='file:///~/miniconda3/envs/pytorch/lib/python3.9/site-packages/sklearn/preprocessing/_label.py?line=134'>135</a>\u001b[0m \u001b[39mif\u001b[39;00m _num_samples(y) \u001b[39m==\u001b[39m \u001b[39m0\u001b[39m:\n\u001b[1;32m    <a href='file:///~/miniconda3/envs/pytorch/lib/python3.9/site-packages/sklearn/preprocessing/_label.py?line=135'>136</a>\u001b[0m     \u001b[39mreturn\u001b[39;00m np\u001b[39m.\u001b[39marray([])\n\u001b[0;32m--> <a href='file:///~/miniconda3/envs/pytorch/lib/python3.9/site-packages/sklearn/preprocessing/_label.py?line=137'>138</a>\u001b[0m \u001b[39mreturn\u001b[39;00m _encode(y, uniques\u001b[39m=\u001b[39;49m\u001b[39mself\u001b[39;49m\u001b[39m.\u001b[39;49mclasses_)\n",
      "File \u001b[0;32m~/miniconda3/envs/pytorch/lib/python3.9/site-packages/sklearn/utils/_encode.py:184\u001b[0m, in \u001b[0;36m_encode\u001b[0;34m(values, uniques, check_unknown)\u001b[0m\n\u001b[1;32m    <a href='file:///~/miniconda3/envs/pytorch/lib/python3.9/site-packages/sklearn/utils/_encode.py?line=181'>182</a>\u001b[0m         \u001b[39mreturn\u001b[39;00m _map_to_integer(values, uniques)\n\u001b[1;32m    <a href='file:///~/miniconda3/envs/pytorch/lib/python3.9/site-packages/sklearn/utils/_encode.py?line=182'>183</a>\u001b[0m     \u001b[39mexcept\u001b[39;00m \u001b[39mKeyError\u001b[39;00m \u001b[39mas\u001b[39;00m e:\n\u001b[0;32m--> <a href='file:///~/miniconda3/envs/pytorch/lib/python3.9/site-packages/sklearn/utils/_encode.py?line=183'>184</a>\u001b[0m         \u001b[39mraise\u001b[39;00m \u001b[39mValueError\u001b[39;00m(\u001b[39mf\u001b[39m\u001b[39m\"\u001b[39m\u001b[39my contains previously unseen labels: \u001b[39m\u001b[39m{\u001b[39;00m\u001b[39mstr\u001b[39m(e)\u001b[39m}\u001b[39;00m\u001b[39m\"\u001b[39m)\n\u001b[1;32m    <a href='file:///~/miniconda3/envs/pytorch/lib/python3.9/site-packages/sklearn/utils/_encode.py?line=184'>185</a>\u001b[0m \u001b[39melse\u001b[39;00m:\n\u001b[1;32m    <a href='file:///~/miniconda3/envs/pytorch/lib/python3.9/site-packages/sklearn/utils/_encode.py?line=185'>186</a>\u001b[0m     \u001b[39mif\u001b[39;00m check_unknown:\n",
      "\u001b[0;31mValueError\u001b[0m: y contains previously unseen labels: 'tokdyo'"
     ]
    }
   ],
   "source": [
    "def process_annotations_file(path):\n",
    "        \n",
    "        annotations_df = pd.read_csv(path)\n",
    "        annotations_gdf = gpd.GeoDataFrame(annotations_df,\n",
    "                            geometry=gpd.points_from_xy(annotations_df.x, annotations_df.y))    \n",
    "                            \n",
    "        annotations = annotations_gdf.loc[annotations_gdf.step == 'step1'].copy()\n",
    "\n",
    "        classes = annotations.answer.unique()\n",
    "\n",
    "        le = preprocessing.LabelEncoder()\n",
    "        le.fit(classes)\n",
    "\n",
    "        annotations['label'] = le.transform(annotations.answer)\n",
    "\n",
    "        return annotations\n",
    "\n",
    "class Dataset(Dataset):\n",
    "    def __init__(self, annotations_file, img_dir, transform=None, target_transform=None):\n",
    "\n",
    "        self.img_labels = process_annotations_file(annotations_file)\n",
    "\n",
    "        self.img_dir = img_dir\n",
    "        self.transform = transform\n",
    "        self.target_transform = target_transform\n",
    "\n",
    "    def __len__(self):\n",
    "        return len(self.img_labels)\n",
    "\n",
    "    def __getitem__(self, idx):\n",
    "        img_path = os.path.join(self.img_dir, self.img_labels.iloc[idx, 0])\n",
    "        image = read_image(img_path)\n",
    "        label = self.img_labels.iloc[idx, 1]\n",
    "        if self.transform:\n",
    "            image = self.transform(image)\n",
    "        if self.target_transform:\n",
    "            label = self.target_transform(label)\n",
    "        return image, label"
   ]
  },
  {
   "cell_type": "markdown",
   "metadata": {},
   "source": []
  }
 ],
 "metadata": {
  "interpreter": {
   "hash": "0d17892806c1ad27f1a1a1d12ac33565df9680b8027c620fd889547fa45983af"
  },
  "kernelspec": {
   "display_name": "Python 3.9.10 ('pytorch')",
   "language": "python",
   "name": "python3"
  },
  "language_info": {
   "codemirror_mode": {
    "name": "ipython",
    "version": 3
   },
   "file_extension": ".py",
   "mimetype": "text/x-python",
   "name": "python",
   "nbconvert_exporter": "python",
   "pygments_lexer": "ipython3",
   "version": "3.9.10"
  },
  "orig_nbformat": 4
 },
 "nbformat": 4,
 "nbformat_minor": 2
}
