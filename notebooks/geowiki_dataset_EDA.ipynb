{
 "cells": [
  {
   "cell_type": "code",
   "execution_count": 1,
   "metadata": {},
   "outputs": [],
   "source": [
    "import geopandas as gpd\n",
    "import pandas as pd\n",
    "import numpy as np\n",
    "import matplotlib.pyplot as plt"
   ]
  },
  {
   "cell_type": "code",
   "execution_count": 2,
   "metadata": {},
   "outputs": [],
   "source": [
    "campaign = pd.read_csv('data/geowiki/ILUC_DARE_x_y/ILUC_DARE_campaign_x_y.csv')\n",
    "controls = pd.read_csv('data/geowiki/ILUC_DARE_x_y/ILUC_DARE_controls_x_y.csv')\n"
   ]
  },
  {
   "cell_type": "code",
   "execution_count": 74,
   "metadata": {},
   "outputs": [],
   "source": [
    "campaign_gdf = gpd.GeoDataFrame(campaign,\n",
    "                     geometry=gpd.points_from_xy(campaign.x, campaign.y))\n",
    "\n",
    "controls_gdf = gpd.GeoDataFrame(controls,\n",
    "                     geometry=gpd.points_from_xy(controls.x, controls.y))                    "
   ]
  },
  {
   "cell_type": "code",
   "execution_count": 75,
   "metadata": {},
   "outputs": [
    {
     "data": {
      "text/html": [
       "<div>\n",
       "<style scoped>\n",
       "    .dataframe tbody tr th:only-of-type {\n",
       "        vertical-align: middle;\n",
       "    }\n",
       "\n",
       "    .dataframe tbody tr th {\n",
       "        vertical-align: top;\n",
       "    }\n",
       "\n",
       "    .dataframe thead th {\n",
       "        text-align: right;\n",
       "    }\n",
       "</style>\n",
       "<table border=\"1\" class=\"dataframe\">\n",
       "  <thead>\n",
       "    <tr style=\"text-align: right;\">\n",
       "      <th></th>\n",
       "      <th>sampleid</th>\n",
       "      <th>legendid</th>\n",
       "      <th>step</th>\n",
       "      <th>name</th>\n",
       "      <th>answer</th>\n",
       "      <th>x</th>\n",
       "      <th>y</th>\n",
       "      <th>geometry</th>\n",
       "    </tr>\n",
       "  </thead>\n",
       "  <tbody>\n",
       "    <tr>\n",
       "      <th>1</th>\n",
       "      <td>1740347</td>\n",
       "      <td>298</td>\n",
       "      <td>step1</td>\n",
       "      <td>Please select the predominant tree loss driver...</td>\n",
       "      <td>Subsistence agriculture</td>\n",
       "      <td>122.612326</td>\n",
       "      <td>9.604870</td>\n",
       "      <td>POINT (122.61233 9.60487)</td>\n",
       "    </tr>\n",
       "    <tr>\n",
       "      <th>5</th>\n",
       "      <td>1739108</td>\n",
       "      <td>298</td>\n",
       "      <td>step1</td>\n",
       "      <td>Please select the predominant tree loss driver...</td>\n",
       "      <td>Pasture</td>\n",
       "      <td>-37.796241</td>\n",
       "      <td>-12.070579</td>\n",
       "      <td>POINT (-37.79624 -12.07058)</td>\n",
       "    </tr>\n",
       "    <tr>\n",
       "      <th>6</th>\n",
       "      <td>1739666</td>\n",
       "      <td>298</td>\n",
       "      <td>step1</td>\n",
       "      <td>Please select the predominant tree loss driver...</td>\n",
       "      <td>Other natural disturbances/No tree-loss driver</td>\n",
       "      <td>-4.262132</td>\n",
       "      <td>9.700092</td>\n",
       "      <td>POINT (-4.26213 9.70009)</td>\n",
       "    </tr>\n",
       "    <tr>\n",
       "      <th>9</th>\n",
       "      <td>1739063</td>\n",
       "      <td>298</td>\n",
       "      <td>step1</td>\n",
       "      <td>Please select the predominant tree loss driver...</td>\n",
       "      <td>Subsistence agriculture</td>\n",
       "      <td>-51.525194</td>\n",
       "      <td>-26.045670</td>\n",
       "      <td>POINT (-51.52519 -26.04567)</td>\n",
       "    </tr>\n",
       "    <tr>\n",
       "      <th>13</th>\n",
       "      <td>1738129</td>\n",
       "      <td>298</td>\n",
       "      <td>step1</td>\n",
       "      <td>Please select the predominant tree loss driver...</td>\n",
       "      <td>Subsistence agriculture</td>\n",
       "      <td>90.594572</td>\n",
       "      <td>25.690104</td>\n",
       "      <td>POINT (90.59457 25.69010)</td>\n",
       "    </tr>\n",
       "    <tr>\n",
       "      <th>...</th>\n",
       "      <td>...</td>\n",
       "      <td>...</td>\n",
       "      <td>...</td>\n",
       "      <td>...</td>\n",
       "      <td>...</td>\n",
       "      <td>...</td>\n",
       "      <td>...</td>\n",
       "      <td>...</td>\n",
       "    </tr>\n",
       "    <tr>\n",
       "      <th>6144</th>\n",
       "      <td>1741075</td>\n",
       "      <td>298</td>\n",
       "      <td>step1</td>\n",
       "      <td>Please select the predominant tree loss driver...</td>\n",
       "      <td>Pasture</td>\n",
       "      <td>-70.200270</td>\n",
       "      <td>8.145108</td>\n",
       "      <td>POINT (-70.20027 8.14511)</td>\n",
       "    </tr>\n",
       "    <tr>\n",
       "      <th>6145</th>\n",
       "      <td>1739715</td>\n",
       "      <td>298</td>\n",
       "      <td>step1</td>\n",
       "      <td>Please select the predominant tree loss driver...</td>\n",
       "      <td>Managed forest/forestry</td>\n",
       "      <td>-84.427788</td>\n",
       "      <td>29.952610</td>\n",
       "      <td>POINT (-84.42779 29.95261)</td>\n",
       "    </tr>\n",
       "    <tr>\n",
       "      <th>6150</th>\n",
       "      <td>1739505</td>\n",
       "      <td>298</td>\n",
       "      <td>step1</td>\n",
       "      <td>Please select the predominant tree loss driver...</td>\n",
       "      <td>Pasture</td>\n",
       "      <td>-51.503634</td>\n",
       "      <td>-9.209445</td>\n",
       "      <td>POINT (-51.50363 -9.20945)</td>\n",
       "    </tr>\n",
       "    <tr>\n",
       "      <th>6153</th>\n",
       "      <td>1739129</td>\n",
       "      <td>298</td>\n",
       "      <td>step1</td>\n",
       "      <td>Please select the predominant tree loss driver...</td>\n",
       "      <td>Subsistence agriculture</td>\n",
       "      <td>104.939769</td>\n",
       "      <td>16.243420</td>\n",
       "      <td>POINT (104.93977 16.24342)</td>\n",
       "    </tr>\n",
       "    <tr>\n",
       "      <th>6156</th>\n",
       "      <td>1738062</td>\n",
       "      <td>298</td>\n",
       "      <td>step1</td>\n",
       "      <td>Please select the predominant tree loss driver...</td>\n",
       "      <td>Pasture</td>\n",
       "      <td>-57.862808</td>\n",
       "      <td>-9.460973</td>\n",
       "      <td>POINT (-57.86281 -9.46097)</td>\n",
       "    </tr>\n",
       "  </tbody>\n",
       "</table>\n",
       "<p>2001 rows × 8 columns</p>\n",
       "</div>"
      ],
      "text/plain": [
       "      sampleid  legendid   step  \\\n",
       "1      1740347       298  step1   \n",
       "5      1739108       298  step1   \n",
       "6      1739666       298  step1   \n",
       "9      1739063       298  step1   \n",
       "13     1738129       298  step1   \n",
       "...        ...       ...    ...   \n",
       "6144   1741075       298  step1   \n",
       "6145   1739715       298  step1   \n",
       "6150   1739505       298  step1   \n",
       "6153   1739129       298  step1   \n",
       "6156   1738062       298  step1   \n",
       "\n",
       "                                                   name  \\\n",
       "1     Please select the predominant tree loss driver...   \n",
       "5     Please select the predominant tree loss driver...   \n",
       "6     Please select the predominant tree loss driver...   \n",
       "9     Please select the predominant tree loss driver...   \n",
       "13    Please select the predominant tree loss driver...   \n",
       "...                                                 ...   \n",
       "6144  Please select the predominant tree loss driver...   \n",
       "6145  Please select the predominant tree loss driver...   \n",
       "6150  Please select the predominant tree loss driver...   \n",
       "6153  Please select the predominant tree loss driver...   \n",
       "6156  Please select the predominant tree loss driver...   \n",
       "\n",
       "                                              answer           x          y  \\\n",
       "1                            Subsistence agriculture  122.612326   9.604870   \n",
       "5                                            Pasture  -37.796241 -12.070579   \n",
       "6     Other natural disturbances/No tree-loss driver   -4.262132   9.700092   \n",
       "9                            Subsistence agriculture  -51.525194 -26.045670   \n",
       "13                           Subsistence agriculture   90.594572  25.690104   \n",
       "...                                              ...         ...        ...   \n",
       "6144                                         Pasture  -70.200270   8.145108   \n",
       "6145                         Managed forest/forestry  -84.427788  29.952610   \n",
       "6150                                         Pasture  -51.503634  -9.209445   \n",
       "6153                         Subsistence agriculture  104.939769  16.243420   \n",
       "6156                                         Pasture  -57.862808  -9.460973   \n",
       "\n",
       "                         geometry  \n",
       "1       POINT (122.61233 9.60487)  \n",
       "5     POINT (-37.79624 -12.07058)  \n",
       "6        POINT (-4.26213 9.70009)  \n",
       "9     POINT (-51.52519 -26.04567)  \n",
       "13      POINT (90.59457 25.69010)  \n",
       "...                           ...  \n",
       "6144    POINT (-70.20027 8.14511)  \n",
       "6145   POINT (-84.42779 29.95261)  \n",
       "6150   POINT (-51.50363 -9.20945)  \n",
       "6153   POINT (104.93977 16.24342)  \n",
       "6156   POINT (-57.86281 -9.46097)  \n",
       "\n",
       "[2001 rows x 8 columns]"
      ]
     },
     "execution_count": 75,
     "metadata": {},
     "output_type": "execute_result"
    }
   ],
   "source": [
    "controls_gdf.loc[controls_gdf.step == 'step1']"
   ]
  },
  {
   "cell_type": "code",
   "execution_count": 76,
   "metadata": {},
   "outputs": [
    {
     "data": {
      "text/plain": [
       "array(['Subsistence agriculture', 'Pasture',\n",
       "       'Other natural disturbances/No tree-loss driver',\n",
       "       'Managed forest/forestry', 'Commercial agriculture',\n",
       "       'Roads/trails/buildings',\n",
       "       'Commercial oil palm or other palm plantations',\n",
       "       'Mining and crude oil extraction', 'Wildfire (disturbance)'],\n",
       "      dtype=object)"
      ]
     },
     "execution_count": 76,
     "metadata": {},
     "output_type": "execute_result"
    }
   ],
   "source": [
    "controls_gdf.loc[controls_gdf.step == 'step1'].answer.unique()"
   ]
  },
  {
   "cell_type": "code",
   "execution_count": 77,
   "metadata": {},
   "outputs": [
    {
     "data": {
      "text/plain": [
       "array(['Subsistence agriculture', 'Managed forest/forestry', 'Pasture',\n",
       "       'Roads/trails/buildings',\n",
       "       'Other natural disturbances/No tree-loss driver',\n",
       "       'Commercial agriculture', 'Wildfire (disturbance)',\n",
       "       'Commercial oil palm or other palm plantations',\n",
       "       'Mining and crude oil extraction'], dtype=object)"
      ]
     },
     "execution_count": 77,
     "metadata": {},
     "output_type": "execute_result"
    }
   ],
   "source": [
    "campaign_gdf.loc[campaign_gdf.step == 'step1'].answer.unique()"
   ]
  },
  {
   "cell_type": "code",
   "execution_count": 78,
   "metadata": {},
   "outputs": [
    {
     "data": {
      "text/plain": [
       "(array(['Commercial agriculture',\n",
       "        'Commercial oil palm or other palm plantations',\n",
       "        'Managed forest/forestry', 'Mining and crude oil extraction',\n",
       "        'Other natural disturbances/No tree-loss driver', 'Pasture',\n",
       "        'Roads/trails/buildings', 'Subsistence agriculture',\n",
       "        'Wildfire (disturbance)'], dtype=object),\n",
       " array([ 17595,  17345,  41849,   1076,  20394,  62034,   6137, 214748,\n",
       "          2010]))"
      ]
     },
     "execution_count": 78,
     "metadata": {},
     "output_type": "execute_result"
    }
   ],
   "source": [
    "np.unique(campaign_gdf.loc[campaign_gdf.step == 'step1'].answer, return_counts=True)"
   ]
  },
  {
   "cell_type": "code",
   "execution_count": 17,
   "metadata": {},
   "outputs": [
    {
     "data": {
      "text/plain": [
       "([0, 1, 2, 3, 4, 5, 6, 7, 8],\n",
       " [Text(0, 0, ''),\n",
       "  Text(0, 0, ''),\n",
       "  Text(0, 0, ''),\n",
       "  Text(0, 0, ''),\n",
       "  Text(0, 0, ''),\n",
       "  Text(0, 0, ''),\n",
       "  Text(0, 0, ''),\n",
       "  Text(0, 0, ''),\n",
       "  Text(0, 0, '')])"
      ]
     },
     "execution_count": 17,
     "metadata": {},
     "output_type": "execute_result"
    },
    {
     "data": {
      "image/png": "[encoded data removed]",
      "text/plain": [
       "<Figure size 864x576 with 1 Axes>"
      ]
     },
     "metadata": {
      "needs_background": "light"
     },
     "output_type": "display_data"
    }
   ],
   "source": [
    "#The dataset is highly unbalanced\n",
    "\n",
    "\n",
    "campaign_gdf.loc[campaign_gdf.step == 'step1'].answer.hist(figsize=(12,8))\n",
    "plt.xticks(rotation=25)"
   ]
  },
  {
   "cell_type": "code",
   "execution_count": 24,
   "metadata": {},
   "outputs": [
    {
     "data": {
      "text/plain": [
       "Text(0.5, 1.0, \"Distribution of classes in 'controls' part of the geo-wiki dataset\")"
      ]
     },
     "execution_count": 24,
     "metadata": {},
     "output_type": "execute_result"
    },
    {
     "data": {
      "image/png": "[encoded data removed]",
      "text/plain": [
       "<Figure size 720x576 with 1 Axes>"
      ]
     },
     "metadata": {
      "needs_background": "light"
     },
     "output_type": "display_data"
    }
   ],
   "source": [
    "\n",
    "controls_gdf.loc[controls_gdf.step == 'step1'].answer.hist(figsize=(10,8))\n",
    "plt.xticks(rotation=80)\n",
    "plt.title(\"Distribution of classes in 'controls' part of the geo-wiki dataset\")"
   ]
  },
  {
   "cell_type": "code",
   "execution_count": 20,
   "metadata": {},
   "outputs": [
    {
     "data": {
      "text/plain": [
       "(array(['Commercial agriculture',\n",
       "        'Commercial oil palm or other palm plantations',\n",
       "        'Managed forest/forestry', 'Mining and crude oil extraction',\n",
       "        'Other natural disturbances/No tree-loss driver', 'Pasture',\n",
       "        'Roads/trails/buildings', 'Subsistence agriculture',\n",
       "        'Wildfire (disturbance)'], dtype=object),\n",
       " array([ 104,  143,  255,   20,   76,  308,   53, 1026,   16]))"
      ]
     },
     "execution_count": 20,
     "metadata": {},
     "output_type": "execute_result"
    }
   ],
   "source": [
    "np.unique(controls_gdf.loc[controls_gdf.step == 'step1'].answer, return_counts=True)"
   ]
  },
  {
   "cell_type": "markdown",
   "metadata": {},
   "source": [
    "In this section, I look at how often there are different answers for one location"
   ]
  },
  {
   "cell_type": "code",
   "execution_count": 80,
   "metadata": {},
   "outputs": [],
   "source": [
    "main_driver = campaign_gdf.loc[campaign_gdf.step == 'step1']"
   ]
  },
  {
   "cell_type": "code",
   "execution_count": 81,
   "metadata": {},
   "outputs": [
    {
     "data": {
      "text/html": [
       "<div>\n",
       "<style scoped>\n",
       "    .dataframe tbody tr th:only-of-type {\n",
       "        vertical-align: middle;\n",
       "    }\n",
       "\n",
       "    .dataframe tbody tr th {\n",
       "        vertical-align: top;\n",
       "    }\n",
       "\n",
       "    .dataframe thead th {\n",
       "        text-align: right;\n",
       "    }\n",
       "</style>\n",
       "<table border=\"1\" class=\"dataframe\">\n",
       "  <thead>\n",
       "    <tr style=\"text-align: right;\">\n",
       "      <th></th>\n",
       "      <th>userid</th>\n",
       "      <th>step</th>\n",
       "      <th>name</th>\n",
       "      <th>answer</th>\n",
       "      <th>rank_ini</th>\n",
       "      <th>rqs</th>\n",
       "      <th>newqs</th>\n",
       "      <th>x</th>\n",
       "      <th>y</th>\n",
       "      <th>geometry</th>\n",
       "    </tr>\n",
       "  </thead>\n",
       "  <tbody>\n",
       "    <tr>\n",
       "      <th>2</th>\n",
       "      <td>21900</td>\n",
       "      <td>step1</td>\n",
       "      <td>Please select the predominant tree loss driver...</td>\n",
       "      <td>Subsistence agriculture</td>\n",
       "      <td>17.0</td>\n",
       "      <td>0.82</td>\n",
       "      <td>37583.0</td>\n",
       "      <td>97.923927</td>\n",
       "      <td>26.256042</td>\n",
       "      <td>POINT (97.92393 26.25604)</td>\n",
       "    </tr>\n",
       "    <tr>\n",
       "      <th>5</th>\n",
       "      <td>21576</td>\n",
       "      <td>step1</td>\n",
       "      <td>Please select the predominant tree loss driver...</td>\n",
       "      <td>Subsistence agriculture</td>\n",
       "      <td>10.0</td>\n",
       "      <td>0.71</td>\n",
       "      <td>28776.0</td>\n",
       "      <td>107.481103</td>\n",
       "      <td>15.599328</td>\n",
       "      <td>POINT (107.48110 15.59933)</td>\n",
       "    </tr>\n",
       "    <tr>\n",
       "      <th>8</th>\n",
       "      <td>21900</td>\n",
       "      <td>step1</td>\n",
       "      <td>Please select the predominant tree loss driver...</td>\n",
       "      <td>Managed forest/forestry</td>\n",
       "      <td>17.0</td>\n",
       "      <td>0.82</td>\n",
       "      <td>37583.0</td>\n",
       "      <td>107.481103</td>\n",
       "      <td>15.599328</td>\n",
       "      <td>POINT (107.48110 15.59933)</td>\n",
       "    </tr>\n",
       "    <tr>\n",
       "      <th>11</th>\n",
       "      <td>21912</td>\n",
       "      <td>step1</td>\n",
       "      <td>Please select the predominant tree loss driver...</td>\n",
       "      <td>Subsistence agriculture</td>\n",
       "      <td>12.0</td>\n",
       "      <td>0.88</td>\n",
       "      <td>45805.0</td>\n",
       "      <td>107.481103</td>\n",
       "      <td>15.599328</td>\n",
       "      <td>POINT (107.48110 15.59933)</td>\n",
       "    </tr>\n",
       "    <tr>\n",
       "      <th>14</th>\n",
       "      <td>15296</td>\n",
       "      <td>step1</td>\n",
       "      <td>Please select the predominant tree loss driver...</td>\n",
       "      <td>Subsistence agriculture</td>\n",
       "      <td>9.0</td>\n",
       "      <td>0.83</td>\n",
       "      <td>56048.0</td>\n",
       "      <td>2.058415</td>\n",
       "      <td>10.523847</td>\n",
       "      <td>POINT (2.05841 10.52385)</td>\n",
       "    </tr>\n",
       "    <tr>\n",
       "      <th>...</th>\n",
       "      <td>...</td>\n",
       "      <td>...</td>\n",
       "      <td>...</td>\n",
       "      <td>...</td>\n",
       "      <td>...</td>\n",
       "      <td>...</td>\n",
       "      <td>...</td>\n",
       "      <td>...</td>\n",
       "      <td>...</td>\n",
       "      <td>...</td>\n",
       "    </tr>\n",
       "    <tr>\n",
       "      <th>1158005</th>\n",
       "      <td>19505</td>\n",
       "      <td>step1</td>\n",
       "      <td>Please select the predominant tree loss driver...</td>\n",
       "      <td>Subsistence agriculture</td>\n",
       "      <td>5.0</td>\n",
       "      <td>0.81</td>\n",
       "      <td>70025.0</td>\n",
       "      <td>99.490589</td>\n",
       "      <td>16.945004</td>\n",
       "      <td>POINT (99.49059 16.94500)</td>\n",
       "    </tr>\n",
       "    <tr>\n",
       "      <th>1158008</th>\n",
       "      <td>20326</td>\n",
       "      <td>step1</td>\n",
       "      <td>Please select the predominant tree loss driver...</td>\n",
       "      <td>Subsistence agriculture</td>\n",
       "      <td>2.0</td>\n",
       "      <td>0.83</td>\n",
       "      <td>120011.0</td>\n",
       "      <td>99.490589</td>\n",
       "      <td>16.945004</td>\n",
       "      <td>POINT (99.49059 16.94500)</td>\n",
       "    </tr>\n",
       "    <tr>\n",
       "      <th>1158012</th>\n",
       "      <td>2263</td>\n",
       "      <td>step1</td>\n",
       "      <td>Please select the predominant tree loss driver...</td>\n",
       "      <td>Subsistence agriculture</td>\n",
       "      <td>32.0</td>\n",
       "      <td>0.64</td>\n",
       "      <td>2021.0</td>\n",
       "      <td>28.855159</td>\n",
       "      <td>-13.521358</td>\n",
       "      <td>POINT (28.85516 -13.52136)</td>\n",
       "    </tr>\n",
       "    <tr>\n",
       "      <th>1158015</th>\n",
       "      <td>2263</td>\n",
       "      <td>step1</td>\n",
       "      <td>Please select the predominant tree loss driver...</td>\n",
       "      <td>Subsistence agriculture</td>\n",
       "      <td>32.0</td>\n",
       "      <td>0.64</td>\n",
       "      <td>2021.0</td>\n",
       "      <td>28.855159</td>\n",
       "      <td>-13.521358</td>\n",
       "      <td>POINT (28.85516 -13.52136)</td>\n",
       "    </tr>\n",
       "    <tr>\n",
       "      <th>1158018</th>\n",
       "      <td>21910</td>\n",
       "      <td>step1</td>\n",
       "      <td>Please select the predominant tree loss driver...</td>\n",
       "      <td>Subsistence agriculture</td>\n",
       "      <td>3.0</td>\n",
       "      <td>0.74</td>\n",
       "      <td>62423.0</td>\n",
       "      <td>28.855159</td>\n",
       "      <td>-13.521358</td>\n",
       "      <td>POINT (28.85516 -13.52136)</td>\n",
       "    </tr>\n",
       "  </tbody>\n",
       "</table>\n",
       "<p>383188 rows × 10 columns</p>\n",
       "</div>"
      ],
      "text/plain": [
       "         userid   step                                               name  \\\n",
       "2         21900  step1  Please select the predominant tree loss driver...   \n",
       "5         21576  step1  Please select the predominant tree loss driver...   \n",
       "8         21900  step1  Please select the predominant tree loss driver...   \n",
       "11        21912  step1  Please select the predominant tree loss driver...   \n",
       "14        15296  step1  Please select the predominant tree loss driver...   \n",
       "...         ...    ...                                                ...   \n",
       "1158005   19505  step1  Please select the predominant tree loss driver...   \n",
       "1158008   20326  step1  Please select the predominant tree loss driver...   \n",
       "1158012    2263  step1  Please select the predominant tree loss driver...   \n",
       "1158015    2263  step1  Please select the predominant tree loss driver...   \n",
       "1158018   21910  step1  Please select the predominant tree loss driver...   \n",
       "\n",
       "                          answer  rank_ini   rqs     newqs           x  \\\n",
       "2        Subsistence agriculture      17.0  0.82   37583.0   97.923927   \n",
       "5        Subsistence agriculture      10.0  0.71   28776.0  107.481103   \n",
       "8        Managed forest/forestry      17.0  0.82   37583.0  107.481103   \n",
       "11       Subsistence agriculture      12.0  0.88   45805.0  107.481103   \n",
       "14       Subsistence agriculture       9.0  0.83   56048.0    2.058415   \n",
       "...                          ...       ...   ...       ...         ...   \n",
       "1158005  Subsistence agriculture       5.0  0.81   70025.0   99.490589   \n",
       "1158008  Subsistence agriculture       2.0  0.83  120011.0   99.490589   \n",
       "1158012  Subsistence agriculture      32.0  0.64    2021.0   28.855159   \n",
       "1158015  Subsistence agriculture      32.0  0.64    2021.0   28.855159   \n",
       "1158018  Subsistence agriculture       3.0  0.74   62423.0   28.855159   \n",
       "\n",
       "                 y                    geometry  \n",
       "2        26.256042   POINT (97.92393 26.25604)  \n",
       "5        15.599328  POINT (107.48110 15.59933)  \n",
       "8        15.599328  POINT (107.48110 15.59933)  \n",
       "11       15.599328  POINT (107.48110 15.59933)  \n",
       "14       10.523847    POINT (2.05841 10.52385)  \n",
       "...            ...                         ...  \n",
       "1158005  16.945004   POINT (99.49059 16.94500)  \n",
       "1158008  16.945004   POINT (99.49059 16.94500)  \n",
       "1158012 -13.521358  POINT (28.85516 -13.52136)  \n",
       "1158015 -13.521358  POINT (28.85516 -13.52136)  \n",
       "1158018 -13.521358  POINT (28.85516 -13.52136)  \n",
       "\n",
       "[383188 rows x 10 columns]"
      ]
     },
     "execution_count": 81,
     "metadata": {},
     "output_type": "execute_result"
    }
   ],
   "source": [
    "main_driver = main_driver.drop(['legendid', 'samplegroupid', 'viewed_ge', 'qual_score', 'used_basemap', 'rank_final', 'comm', 'comments', 'submissionid', 'sampleid', 'timestamp', 'skip', 'submission_itemid', 'score_ctrl', 'addedpts'], axis=1)\n",
    "main_driver"
   ]
  },
  {
   "cell_type": "code",
   "execution_count": 83,
   "metadata": {},
   "outputs": [
    {
     "name": "stdout",
     "output_type": "stream",
     "text": [
      "Average number of drivers based on the 3 answers:  1.6064262994162677\n"
     ]
    }
   ],
   "source": [
    "main_driver['wkb'] = main_driver.geometry.to_wkb()\n",
    "\n",
    "groups_count = 0\n",
    "drivers = 0\n",
    "\n",
    "for name, group in main_driver.groupby(main_driver.wkb):\n",
    "    groups_count += 1\n",
    "    drivers += np.unique(group.answer).shape[0]\n",
    "    \n",
    "print(\"Average number of drivers based on the 3 answers: \", drivers/groups_count)\n",
    "    "
   ]
  },
  {
   "cell_type": "code",
   "execution_count": 84,
   "metadata": {},
   "outputs": [
    {
     "ename": "ValueError",
     "evalue": "Unique value: 5",
     "output_type": "error",
     "traceback": [
      "\u001b[0;31m---------------------------------------------------------------------------\u001b[0m",
      "\u001b[0;31mValueError\u001b[0m                                Traceback (most recent call last)",
      "\u001b[1;32m/Users/janpisl/Documents/EPFL/drivers/geowiki_dataset_EDA.ipynb Cell 20'\u001b[0m in \u001b[0;36m<module>\u001b[0;34m\u001b[0m\n\u001b[1;32m     <a href='vscode-notebook-cell:/Users/janpisl/Documents/EPFL/drivers/geowiki_dataset_EDA.ipynb#ch0000022?line=18'>19</a>\u001b[0m         _group \u001b[39m=\u001b[39m group\n\u001b[1;32m     <a href='vscode-notebook-cell:/Users/janpisl/Documents/EPFL/drivers/geowiki_dataset_EDA.ipynb#ch0000022?line=19'>20</a>\u001b[0m         \u001b[39m#other += 1\u001b[39;00m\n\u001b[0;32m---> <a href='vscode-notebook-cell:/Users/janpisl/Documents/EPFL/drivers/geowiki_dataset_EDA.ipynb#ch0000022?line=20'>21</a>\u001b[0m         \u001b[39mraise\u001b[39;00m \u001b[39mValueError\u001b[39;00m(\u001b[39mf\u001b[39m\u001b[39m\"\u001b[39m\u001b[39mUnique value: \u001b[39m\u001b[39m{\u001b[39;00munique\u001b[39m}\u001b[39;00m\u001b[39m\"\u001b[39m)     \n\u001b[1;32m     <a href='vscode-notebook-cell:/Users/janpisl/Documents/EPFL/drivers/geowiki_dataset_EDA.ipynb#ch0000022?line=21'>22</a>\u001b[0m     \u001b[39m#print(\"Average number of drivers based on the 3 answers: \", drivers/groups_count)\u001b[39;00m\n\u001b[1;32m     <a href='vscode-notebook-cell:/Users/janpisl/Documents/EPFL/drivers/geowiki_dataset_EDA.ipynb#ch0000022?line=24'>25</a>\u001b[0m \u001b[39mprint\u001b[39m(one\u001b[39m/\u001b[39mgroups_count) \n",
      "\u001b[0;31mValueError\u001b[0m: Unique value: 5"
     ]
    }
   ],
   "source": [
    "groups_count = 0\n",
    "one = 0\n",
    "two = 0\n",
    "three = 0\n",
    "other = 0\n",
    "\n",
    "for name, group in main_driver.groupby(main_driver.wkb):\n",
    "    groups_count += 1\n",
    "\n",
    "    unique = np.unique(group.answer).shape[0]\n",
    "\n",
    "    if unique == 1:\n",
    "        one += 1\n",
    "    elif unique == 2:\n",
    "        two += 1\n",
    "    elif unique == 3:\n",
    "        three += 1\n",
    "    else:\n",
    "        _group = group\n",
    "        #other += 1\n",
    "        raise ValueError(f\"Unique value: {unique}\")     \n",
    "    #print(\"Average number of drivers based on the 3 answers: \", drivers/groups_count)\n",
    "\n",
    "\n",
    "print(one/groups_count) \n",
    "print(two/groups_count)   \n",
    "print(three/groups_count)     \n",
    "print(one, two, three, other)"
   ]
  },
  {
   "cell_type": "code",
   "execution_count": 85,
   "metadata": {},
   "outputs": [],
   "source": [
    "lengths = []\n",
    "\n",
    "for name, group in main_driver.groupby(main_driver.wkb):\n",
    "\n",
    "    lengths.append(group.shape[0])\n"
   ]
  },
  {
   "cell_type": "code",
   "execution_count": 88,
   "metadata": {},
   "outputs": [
    {
     "data": {
      "text/plain": [
       "Text(0.5, 1.0, 'Number of answers (drivers) for one location')"
      ]
     },
     "execution_count": 88,
     "metadata": {},
     "output_type": "execute_result"
    },
    {
     "data": {
      "image/png": "[encoded data removed]",
      "text/plain": [
       "<Figure size 432x288 with 1 Axes>"
      ]
     },
     "metadata": {
      "needs_background": "light"
     },
     "output_type": "display_data"
    }
   ],
   "source": [
    "plt.hist(lengths, bins=range(1,30))\n",
    "plt.yscale('log')\n",
    "plt.xlabel(\"Number of answers\")\n",
    "plt.ylabel(\"Frequency (log scale)\")\n",
    "plt.title(\"Number of answers (drivers) for one location\")"
   ]
  },
  {
   "cell_type": "markdown",
   "metadata": {},
   "source": [
    "In the next step, I want to know, how much variance there tends to be within a group?"
   ]
  },
  {
   "cell_type": "code",
   "execution_count": 89,
   "metadata": {},
   "outputs": [],
   "source": [
    "max_votes = []\n",
    "\n",
    "for name, group in main_driver.groupby(main_driver.wkb):\n",
    "\n",
    "    # If there is only one answer, no measure of variance possible\n",
    "    if group.shape[0] == 1:\n",
    "        continue\n",
    "\n",
    "    answers_total = group.shape[0]\n",
    "    categories, counts = np.unique(group.answer, return_counts=True)\n",
    "\n",
    "    # How many votes out of the total number of votes did the class with most votes get?\n",
    "    votes = counts.max()/answers_total\n",
    "    max_votes.append(votes)\n",
    "\n"
   ]
  },
  {
   "cell_type": "code",
   "execution_count": 96,
   "metadata": {},
   "outputs": [
    {
     "data": {
      "text/plain": [
       "(array([7.1000e+01, 9.4480e+03, 3.9000e+01, 1.1580e+03, 7.0000e+01,\n",
       "        4.6349e+04, 1.1840e+03, 7.1000e+01, 7.4000e+01, 5.5783e+04]),\n",
       " array([0.25 , 0.325, 0.4  , 0.475, 0.55 , 0.625, 0.7  , 0.775, 0.85 ,\n",
       "        0.925, 1.   ]),\n",
       " <BarContainer object of 10 artists>)"
      ]
     },
     "execution_count": 96,
     "metadata": {},
     "output_type": "execute_result"
    },
    {
     "data": {
      "image/png": "[encoded data removed]",
      "text/plain": [
       "<Figure size 432x288 with 1 Axes>"
      ]
     },
     "metadata": {
      "needs_background": "light"
     },
     "output_type": "display_data"
    }
   ],
   "source": [
    "plt.hist(max_votes)\n",
    "#plt.xlabel(\"Number of answers\")\n",
    "#plt.ylabel(\"Frequency (log scale)\")\n",
    "#plt.title(\"Number of answers (drivers) for one location\")"
   ]
  },
  {
   "cell_type": "code",
   "execution_count": 99,
   "metadata": {},
   "outputs": [
    {
     "name": "stdout",
     "output_type": "stream",
     "text": [
      "1.5912516665003946\n"
     ]
    }
   ],
   "source": [
    "count = 0\n",
    "total_answers = 0\n",
    "\n",
    "for name, group in main_driver.groupby(main_driver.wkb):\n",
    "\n",
    "    # If there is only one answer, no measure of variance possible\n",
    "    if group.shape[0] != 3:\n",
    "        continue\n",
    "\n",
    "    count += 1\n",
    "\n",
    "    \n",
    "    answers = np.unique(group.answer, return_counts=False).shape[0]\n",
    "    total_answers += answers\n",
    "\n",
    "\n",
    "#The average number of different labels when there are 3 \n",
    "print(total_answers/count)\n",
    "\n"
   ]
  },
  {
   "cell_type": "markdown",
   "metadata": {},
   "source": [
    "## Processing labels\n",
    "\n",
    "Here, I take the dataset csv and produce a DataFrame where each row is one location (sampleid). Columns are all possible answers and row value is the count of that answer (how many volunteers classified given location as a particular driver)\n",
    "\n",
    "\n"
   ]
  },
  {
   "cell_type": "code",
   "execution_count": 4,
   "metadata": {},
   "outputs": [],
   "source": [
    "def get_answers_dict(group, step):\n",
    "\n",
    "    if step != 'step1':\n",
    "        raise NotImplementedError(\"step2 not implemented yet, need to add the dictionary here\")\n",
    "\n",
    "    rows_for_chosen_step = group.loc[group.step == step]\n",
    "\n",
    "    answers = {\n",
    "        'Subsistence agriculture': 0,\n",
    "        'Managed forest/forestry': 0,\n",
    "        'Pasture': 0,\n",
    "        'Roads/trails/buildings': 0,\n",
    "        'Other natural disturbances/No tree-loss driver': 0,\n",
    "        'Commercial agriculture': 0,\n",
    "        'Wildfire (disturbance)': 0,\n",
    "        'Commercial oil palm or other palm plantations': 0,\n",
    "        'Mining and crude oil extraction': 0\n",
    "    }      \n",
    "\n",
    "    for answer in rows_for_chosen_step.answer:\n",
    "        answers[answer] += 1\n",
    "\n",
    "    return answers\n"
   ]
  },
  {
   "cell_type": "code",
   "execution_count": 13,
   "metadata": {},
   "outputs": [
    {
     "name": "stdout",
     "output_type": "stream",
     "text": [
      "1588043\n",
      "       userid  sampleid   step                   answer comments\n",
      "13010   13817   1588043  step1  Subsistence agriculture      NaN\n",
      "13011   13817   1588043  step3                      Yes      NaN\n",
      "13012   13817   1588043  step2   Roads/trails/buildings      NaN\n",
      "13013   15338   1588043  step1  Managed forest/forestry      NaN\n",
      "13014   15338   1588043  step3                      Yes      NaN\n",
      "13015   15338   1588043  step2   Roads/trails/buildings      NaN\n",
      "13016   21907   1588043  step3                      Yes      NaN\n",
      "13017   21907   1588043  step1  Managed forest/forestry      NaN\n",
      "13018   21907   1588043  step2   Roads/trails/buildings      NaN\n",
      "{'Subsistence agriculture': 1, 'Managed forest/forestry': 2, 'Pasture': 0, 'Roads/trails/buildings': 0, 'Other natural disturbances/No tree-loss driver': 0, 'Commercial agriculture': 0, 'Wildfire (disturbance)': 0, 'Commercial oil palm or other palm plantations': 0, 'Mining and crude oil extraction': 0, 'sampleid': 1588043}\n",
      "\n",
      "\n",
      "\n",
      "1588045\n",
      "       userid  sampleid   step                   answer comments\n",
      "13019   19420   1588045  step1                  Pasture      NaN\n",
      "13020   19420   1588045  step3                      Yes      NaN\n",
      "13021   19420   1588045  step2   Roads/trails/buildings      NaN\n",
      "13022   19420   1588045  step3                      Yes      NaN\n",
      "13023   19420   1588045  step1                  Pasture      NaN\n",
      "13024   19420   1588045  step2   Roads/trails/buildings      NaN\n",
      "13025   21907   1588045  step3                      Yes      NaN\n",
      "13026   21907   1588045  step1  Subsistence agriculture      NaN\n",
      "13027   21907   1588045  step2   Roads/trails/buildings      NaN\n",
      "{'Subsistence agriculture': 1, 'Managed forest/forestry': 0, 'Pasture': 2, 'Roads/trails/buildings': 0, 'Other natural disturbances/No tree-loss driver': 0, 'Commercial agriculture': 0, 'Wildfire (disturbance)': 0, 'Commercial oil palm or other palm plantations': 0, 'Mining and crude oil extraction': 0, 'sampleid': 1588045}\n",
      "\n",
      "\n",
      "\n",
      "1588046\n",
      "       userid  sampleid   step                   answer comments\n",
      "13028   19420   1588046  step1  Subsistence agriculture      NaN\n",
      "13029   19420   1588046  step3                      Yes      NaN\n",
      "13030   19420   1588046  step2   Roads/trails/buildings      NaN\n",
      "13031   21584   1588046  step3                      Yes      NaN\n",
      "13032   21584   1588046  step1  Subsistence agriculture      NaN\n",
      "13033   21584   1588046  step2   Roads/trails/buildings      NaN\n",
      "13034   21907   1588046  step3                      Yes      NaN\n",
      "13035   21907   1588046  step1                  Pasture      NaN\n",
      "13036   21907   1588046  step2   Roads/trails/buildings      NaN\n",
      "13037   21907   1588046  step1                  Pasture      NaN\n",
      "13038   21907   1588046  step3                      Yes      NaN\n",
      "13039   21907   1588046  step2   Roads/trails/buildings      NaN\n",
      "{'Subsistence agriculture': 2, 'Managed forest/forestry': 0, 'Pasture': 2, 'Roads/trails/buildings': 0, 'Other natural disturbances/No tree-loss driver': 0, 'Commercial agriculture': 0, 'Wildfire (disturbance)': 0, 'Commercial oil palm or other palm plantations': 0, 'Mining and crude oil extraction': 0, 'sampleid': 1588046}\n",
      "\n",
      "\n",
      "\n",
      "1588047\n",
      "       userid  sampleid   step                   answer comments\n",
      "13040     469   1588047  step3                      Yes      NaN\n",
      "13041     469   1588047  step1  Subsistence agriculture      NaN\n",
      "13042     469   1588047  step2   Roads/trails/buildings      NaN\n",
      "13043   21907   1588047  step3                      Yes      NaN\n",
      "13044   21907   1588047  step1  Subsistence agriculture      NaN\n",
      "13045   21907   1588047  step2   Roads/trails/buildings      NaN\n",
      "13046   21917   1588047  step2   Roads/trails/buildings      NaN\n",
      "13047   21917   1588047  step1  Subsistence agriculture      NaN\n",
      "13048   21917   1588047  step3                      Yes      NaN\n",
      "{'Subsistence agriculture': 3, 'Managed forest/forestry': 0, 'Pasture': 0, 'Roads/trails/buildings': 0, 'Other natural disturbances/No tree-loss driver': 0, 'Commercial agriculture': 0, 'Wildfire (disturbance)': 0, 'Commercial oil palm or other palm plantations': 0, 'Mining and crude oil extraction': 0, 'sampleid': 1588047}\n",
      "\n",
      "\n",
      "\n",
      "1588048\n",
      "       userid  sampleid   step                   answer comments\n",
      "13049   13223   1588048  step3                      Yes      NaN\n",
      "13050   13223   1588048  step1                  Pasture      NaN\n",
      "13051   13223   1588048  step2   Roads/trails/buildings      NaN\n",
      "13052   15297   1588048  step1                  Pasture      NaN\n",
      "13053   15297   1588048  step3                      Yes      NaN\n",
      "13054   15297   1588048  step2   Roads/trails/buildings      NaN\n",
      "13055   21584   1588048  step3                      Yes      NaN\n",
      "13056   21584   1588048  step1  Subsistence agriculture      NaN\n",
      "13057   21584   1588048  step2   Roads/trails/buildings      NaN\n",
      "{'Subsistence agriculture': 1, 'Managed forest/forestry': 0, 'Pasture': 2, 'Roads/trails/buildings': 0, 'Other natural disturbances/No tree-loss driver': 0, 'Commercial agriculture': 0, 'Wildfire (disturbance)': 0, 'Commercial oil palm or other palm plantations': 0, 'Mining and crude oil extraction': 0, 'sampleid': 1588048}\n",
      "\n",
      "\n",
      "\n"
     ]
    }
   ],
   "source": [
    "answers_list = []\n",
    "\n",
    "count = 0\n",
    "for idx, group in campaign.groupby('sampleid'):\n",
    "    count+=1\n",
    "    if count > 5:\n",
    "        break\n",
    "    step1_answers = get_answers_dict(group, 'step1')\n",
    "    step1_answers['sampleid'] = group.sampleid.values[0]\n",
    "\n",
    "    answers_list.append(step1_answers)\n",
    "    print(idx)\n",
    "    print(group[['userid', 'sampleid', 'step', 'answer', 'comments']])\n",
    "    print(step1_answers)\n",
    "    print('\\n\\n')\n",
    "\n",
    "\n",
    "df_answers = pd.DataFrame(answers_list)\n",
    "\n"
   ]
  },
  {
   "cell_type": "code",
   "execution_count": 11,
   "metadata": {},
   "outputs": [
    {
     "data": {
      "text/plain": [
       "Index(['userid', 'submissionid', 'timestamp', 'sampleid', 'skip', 'viewed_ge',\n",
       "       'samplegroupid', 'used_basemap', 'submission_itemid', 'legendid',\n",
       "       'step', 'name', 'answer', 'comm', 'comments', 'score_ctrl',\n",
       "       'qual_score', 'rank_ini', 'rqs', 'addedpts', 'newqs', 'rank_final', 'x',\n",
       "       'y'],\n",
       "      dtype='object')"
      ]
     },
     "execution_count": 11,
     "metadata": {},
     "output_type": "execute_result"
    }
   ],
   "source": []
  },
  {
   "cell_type": "code",
   "execution_count": 71,
   "metadata": {},
   "outputs": [],
   "source": [
    "df_answers.to_csv(\"ILUC_controls_labels.csv\")\n",
    "df_answers2.to_csv(\"ILUC_campaign_labels.csv\")"
   ]
  },
  {
   "cell_type": "code",
   "execution_count": null,
   "metadata": {},
   "outputs": [],
   "source": []
  }
 ],
 "metadata": {
  "interpreter": {
   "hash": "ed0d5165fde6336af43e98beed8c8cc4390213f314ddbf79d35dc3e0efe92c7d"
  },
  "kernelspec": {
   "display_name": "Python 3.9.10 ('gee')",
   "language": "python",
   "name": "python3"
  },
  "language_info": {
   "codemirror_mode": {
    "name": "ipython",
    "version": 3
   },
   "file_extension": ".py",
   "mimetype": "text/x-python",
   "name": "python",
   "nbconvert_exporter": "python",
   "pygments_lexer": "ipython3",
   "version": "3.9.10"
  },
  "orig_nbformat": 4
 },
 "nbformat": 4,
 "nbformat_minor": 2
}
